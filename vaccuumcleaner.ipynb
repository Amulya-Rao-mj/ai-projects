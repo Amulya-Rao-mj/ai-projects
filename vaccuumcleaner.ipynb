{
  "nbformat": 4,
  "nbformat_minor": 0,
  "metadata": {
    "colab": {
      "provenance": []
    },
    "kernelspec": {
      "name": "python3",
      "display_name": "Python 3"
    },
    "language_info": {
      "name": "python"
    }
  },
  "cells": [
    {
      "cell_type": "code",
      "execution_count": null,
      "metadata": {
        "id": "kh0FkqytVhCo"
      },
      "outputs": [],
      "source": [
        "import pandas as pd"
      ]
    },
    {
      "cell_type": "code",
      "source": [
        "def reflex_vacuum_agent(location,status):\n",
        "  if status=='Dirty':\n",
        "    return 'Suck'\n",
        "  elif location=='A':\n",
        "    return 'Right'\n",
        "  elif location=='B':\n",
        "    return 'Left'"
      ],
      "metadata": {
        "id": "2JmgZUi-VrVn"
      },
      "execution_count": null,
      "outputs": []
    },
    {
      "cell_type": "code",
      "source": [
        "location = \"A\"\n",
        "status = \"Dirty\"\n",
        "action = reflex_vacuum_agent(location,status)\n",
        "print(f\"Location: {location}, Status:{status}, Action:{action}\")"
      ],
      "metadata": {
        "colab": {
          "base_uri": "https://localhost:8080/"
        },
        "id": "9UPJIfqGWBEW",
        "outputId": "da1b199b-12c5-4ed3-a6e8-49385e452fc7"
      },
      "execution_count": null,
      "outputs": [
        {
          "output_type": "stream",
          "name": "stdout",
          "text": [
            "Location: A, Status:Dirty, Action:Suck\n"
          ]
        }
      ]
    },
    {
      "cell_type": "code",
      "source": [
        "location=\"A\"\n",
        "status=\"Dirty\"\n",
        "locations=[\"A\",\"B\"]\n",
        "for i in range(5):\n",
        "  action=reflex_vacuum_agent(location,status)\n",
        "  print(f\"Location: {location}, Status:{status}, Action:{action}\")\n",
        "\n",
        "  if action==\"Suck\":\n",
        "    status=\"Clean\"\n",
        "  elif action==\"Right\":\n",
        "    location=\"B\"\n",
        "  elif action==\"Left\":\n",
        "    location=\"A\"\n"
      ],
      "metadata": {
        "colab": {
          "base_uri": "https://localhost:8080/"
        },
        "id": "DoorIOWbXW4m",
        "outputId": "cd602ca4-67ed-4e5f-bd1c-61ef84737177"
      },
      "execution_count": null,
      "outputs": [
        {
          "output_type": "stream",
          "name": "stdout",
          "text": [
            "Location: A, Status:Dirty, Action:Suck\n",
            "Location: A, Status:Clean, Action:Right\n",
            "Location: B, Status:Clean, Action:Left\n",
            "Location: A, Status:Clean, Action:Right\n",
            "Location: B, Status:Clean, Action:Left\n"
          ]
        }
      ]
    },
    {
      "cell_type": "code",
      "source": [
        "def move_towards_goal(position,goal):\n",
        "  while position < goal:\n",
        "    position += 1\n",
        "    print(f\"Current position: {position}\")\n",
        "    print(\"Reached the goal!\")\n",
        "initial_position=0\n",
        "goal_position= 5\n",
        "move_towards_goal(initial_position,goal_position)\n"
      ],
      "metadata": {
        "colab": {
          "base_uri": "https://localhost:8080/"
        },
        "id": "zUwJN8DZZqG8",
        "outputId": "714bfd54-44f8-4ccd-dbf2-8e3b556adb10"
      },
      "execution_count": null,
      "outputs": [
        {
          "output_type": "stream",
          "name": "stdout",
          "text": [
            "Current position: 1\n",
            "Reached the goal!\n",
            "Current position: 2\n",
            "Reached the goal!\n",
            "Current position: 3\n",
            "Reached the goal!\n",
            "Current position: 4\n",
            "Reached the goal!\n",
            "Current position: 5\n",
            "Reached the goal!\n"
          ]
        }
      ]
    },
    {
      "cell_type": "code",
      "source": [
        "def display(room):\n",
        "  print(room)\n",
        "\n",
        "room=[\n",
        "    [1,1,1,1],\n",
        "    [1,1,1,1],\n",
        "    [1,1,1,1],\n",
        "    [1,1,1,1],\n",
        "]\n",
        "print(\"All the roms are dirty\")\n",
        "display(room)\n",
        "\n"
      ],
      "metadata": {
        "colab": {
          "base_uri": "https://localhost:8080/"
        },
        "id": "7EBzcU0Qav-o",
        "outputId": "d65d8491-09ca-48b0-b4cc-29f46b0ae726"
      },
      "execution_count": null,
      "outputs": [
        {
          "output_type": "stream",
          "name": "stdout",
          "text": [
            "All the roms are dirty\n",
            "[[1, 1, 1, 1], [1, 1, 1, 1], [1, 1, 1, 1], [1, 1, 1, 1]]\n"
          ]
        }
      ]
    },
    {
      "cell_type": "code",
      "source": [],
      "metadata": {
        "id": "HgGPrIA_buNO"
      },
      "execution_count": null,
      "outputs": []
    }
  ]
}