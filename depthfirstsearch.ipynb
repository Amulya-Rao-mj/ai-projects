{
  "nbformat": 4,
  "nbformat_minor": 0,
  "metadata": {
    "colab": {
      "provenance": []
    },
    "kernelspec": {
      "name": "python3",
      "display_name": "Python 3"
    },
    "language_info": {
      "name": "python"
    }
  },
  "cells": [
    {
      "cell_type": "code",
      "execution_count": 1,
      "metadata": {
        "colab": {
          "base_uri": "https://localhost:8080/"
        },
        "id": "p3QvUwL7uk2B",
        "outputId": "decb7125-ead4-4268-d056-aeed9886347c"
      },
      "outputs": [
        {
          "output_type": "stream",
          "name": "stdout",
          "text": [
            "DFS starting from node 'A':\n",
            "A B D E F C "
          ]
        }
      ],
      "source": [
        "# Depth First Search (DFS) implementation\n",
        "\n",
        "def dfs(graph, start, visited=None):\n",
        "    if visited is None:\n",
        "        visited = set()  # Keep track of visited nodes\n",
        "\n",
        "    visited.add(start)\n",
        "    print(start, end=\" \")  # Print the current node\n",
        "\n",
        "    # Recur for all the vertices adjacent to this node\n",
        "    for neighbor in graph[start]:\n",
        "        if neighbor not in visited:\n",
        "            dfs(graph, neighbor, visited)\n",
        "\n",
        "graph = {\n",
        "    'A': ['B', 'C'],\n",
        "    'B': ['A', 'D', 'E'],\n",
        "    'C': ['A', 'F'],\n",
        "    'D': ['B'],\n",
        "    'E': ['B', 'F'],\n",
        "    'F': ['C', 'E']\n",
        "}\n",
        "\n",
        "# Starting the DFS traversal from node 'A'\n",
        "print(\"DFS starting from node 'A':\")\n",
        "dfs(graph, 'A')\n"
      ]
    }
  ]
}